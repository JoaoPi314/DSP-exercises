{
 "cells": [
  {
   "cell_type": "markdown",
   "id": "abcdf23b",
   "metadata": {},
   "source": [
    "# FFT implementation from scracth\n",
    "***\n",
    "**Federal University of Campina Grande (Universidade Federal de Campina Grande)**\n",
    "\n",
    "Author: **João Pedro Melquiades Gomes**\n",
    "\n",
    "Email: **joao.melquiades@ee.ufcg.edu.br**\n",
    "***\n",
    "\n",
    "## The Big Problem\n",
    "***\n",
    "\n",
    "As we saw in the **\"DFT Implementation from scracth\"** notebook, the DFT complexity is quadratic. ONce we increase the number of the DFT, the time to compute the result increases drastically. The big idea is: Maybe there is one way that we can cut the complexity to increase performance, while computing the same result. This is achieved by FFT.\n",
    "\n",
    "But first, I will take an approach very different from the usual in our Engineering course. I will take a more mathematical approach to help understand this beautiful algorithm ,then I will try to implement my own FFT. Lets go!"
   ]
  },
  {
   "cell_type": "markdown",
   "id": "89de6927",
   "metadata": {},
   "source": [
    "## Polynomial representation\n",
    "***\n",
    "\n",
    "Okay, let's suppose we have an polynomial of $n_{th}$ grade. We are interested in two representation forms to understand the FFT:\n",
    "\n",
    "- Coefficients\n",
    "- Points\n",
    "\n",
    "Let's take this example:\n",
    "\n",
    "$$A(x) = 5x^3 + 3x^2 + x + 3$$\n",
    "\n",
    "In coefficient representation, we have an array: $[3, 1, 3, 5]$, where the index $i$ represents the coefficient of $x^i$.\n",
    "\n",
    "However, the point representation wants to represent the same polynomial with a given number of points. There is one mathematical theorem that says that if we have any polynomial of $n_{th}$ grade, we need $N+1$ points to fully represent it. So, in the case of a polynomial with grade 3 $A(x)$, we need four points to full represent it. So, in order to evaluate, we do:\n",
    "\n",
    "$$Â(k) = 5x_k^3 + 3x_k^2 + x_k + 3$$\n",
    "\n",
    "Where, $Â(k)$ is the coordinate value of the $x_k$ choosed point. Let's take this into a matricial form:\n",
    "\n",
    "\n",
    "\n",
    "$$\\mathbf{A} = \\begin{bmatrix}\n",
    "x_0^3 & x_0^2 & x_0^1 & x_0^0\\\\\n",
    "x_1^3 & x_1^2 & x_1^1 & x_1^0\\\\\n",
    "x_2^3 & x_2^2 & x_2^1 & x_2^0\\\\\n",
    "x_3^3 & x_3^2 & x_3^1 & x_3^0\\\\\n",
    "\\end{bmatrix}\n",
    "\\begin{bmatrix}\n",
    "5\\\\ \n",
    "3\\\\ \n",
    "1\\\\ \n",
    "3\\\\ \n",
    "\\end{bmatrix}$$\n",
    "\n",
    "If we make this matrix multiplication, we have all four values that fully represents the polynomial $A(x)$. Let's analyse the complexity of this problem:\n",
    "\n",
    "For each line, we have $4$ multiplications and $4$ additions. Once we have $4$ lines, we need to make $16$ multiplications to fully evaluate the polynomial $A(x)$. If we expand this to an arbitrary $P(x)$ with grade $N$, we will need $N^2$ multiplications, letting us with a problem with complexity of $O(n^2)$. The magic here is there is one way that we can cut this multiplications, and this relays in some beautiful properties. Let's start talking about it"
   ]
  },
  {
   "cell_type": "markdown",
   "id": "65615e7a",
   "metadata": {},
   "source": [
    "### Even and Odd functions\n",
    "***\n",
    "\n",
    "Okay, we want to reduce the number of multiplications, alright? So, maybe there is one way that if we choose one point $x_k$, it can be used to easily calculates more than one point with only one evaluation...\n",
    "\n",
    "\n",
    "#### Even functions\n",
    "\n",
    "Assume the function:\n",
    "\n",
    "$$f(x) = x^2$$\n",
    "\n",
    "If we choose a $x_k = -1$, the evaluation is $f(-1) = 1$. But if we choose $x_k = 1$, the evaluation is $f(1) = 1$. Wow, we have the same evaluation to two different values of $x_k$, and calculating to only one, we have the other!. This is a property of even functions:\n",
    "\n",
    "$$f(-x) = f(x)$$\n",
    "\n",
    "#### Odd functions\n",
    "\n",
    "Now, assume the following function:\n",
    "\n",
    "$$g(x) = x^3$$\n",
    "\n",
    "If we choose $x_k = -1$, we have $g(-1) = -1$. If we choose $x_k = 1$, we have $g(1) = 1$. Note that we have the same value but inverted to two different values of $x_k$. So, we only need to evaluate once and to achieve the other evaluation we just invert the result, that is so more simple than making more N multiplications. This is another property that we are interested: To an odd function:\n",
    "\n",
    "$$f(-x) = -f(x)$$\n",
    "\n",
    "Okay, now we have the two main tools to start trying to divide the problem.\n"
   ]
  },
  {
   "cell_type": "markdown",
   "id": "97dc3f3a",
   "metadata": {},
   "source": [
    "### Divide and conquer\n",
    "***\n",
    "\n",
    "we can divide our $A(x)$ into two polynomials, using the even and odd coefficients:\n",
    "\n",
    "TODO\n"
   ]
  }
 ],
 "metadata": {
  "kernelspec": {
   "display_name": "Python 3 (ipykernel)",
   "language": "python",
   "name": "python3"
  },
  "language_info": {
   "codemirror_mode": {
    "name": "ipython",
    "version": 3
   },
   "file_extension": ".py",
   "mimetype": "text/x-python",
   "name": "python",
   "nbconvert_exporter": "python",
   "pygments_lexer": "ipython3",
   "version": "3.10.6"
  }
 },
 "nbformat": 4,
 "nbformat_minor": 5
}
