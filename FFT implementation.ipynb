{
 "cells": [
  {
   "cell_type": "markdown",
   "id": "abcdf23b",
   "metadata": {},
   "source": [
    "# FFT implementation from scracth\n",
    "***\n",
    "**Federal University of Campina Grande (Universidade Federal de Campina Grande)**\n",
    "\n",
    "Author: **João Pedro Melquiades Gomes**\n",
    "\n",
    "Email: **joao.melquiades@ee.ufcg.edu.br**\n",
    "***\n",
    "\n",
    "## The Big Problem\n",
    "***\n",
    "\n",
    "As we saw in the **\"DFT Implementation from scracth\"** notebook, the DFT complexity is quadratic. ONce we increase the number of the DFT, the time to compute the result increases drastically. The big idea is: Maybe there is one way that we can cut the complexity to increase performance, while computing the same result. This is achieved by FFT.\n",
    "\n",
    "But first, I will take an approach very different from the usual in our Engineering course. I will take a more mathematical approach to help understand this beautiful algorithm ,then I will try to implement my own FFT. Lets go!"
   ]
  },
  {
   "cell_type": "markdown",
   "id": "89de6927",
   "metadata": {},
   "source": [
    "## Polynomial representation\n",
    "***\n",
    "\n",
    "Okay, let's suppose we have an polynomial of $n_{th}$ grade. We are interested in two representation forms to understand the FFT:\n",
    "\n",
    "- Coefficients\n",
    "- Points\n",
    "\n",
    "Let's take this example:\n",
    "\n",
    "$$A(x) = 5x^3 + 3x^2 + x + 3$$\n",
    "\n",
    "In coefficient representation, we have an array: $[3, 1, 3, 5]$, where the index $i$ represents the coefficient of $x^i$.\n",
    "\n",
    "However, the point representation wants to represent the same polynomial with a given number of points. There is one mathematical theorem that says that if we have any polynomial of $n_{th}$ grade, we need $N+1$ points to fully represent it. So, in the case of a polynomial with grade 3 $A(x)$, we need four points to full represent it. So, in order to evaluate, we do:\n",
    "\n",
    "$$Â(k) = 5x_k^3 + 3x_k^2 + x_k + 3$$\n",
    "\n",
    "Where, $Â(k)$ is the coordinate value of the $x_k$ choosed point. Let's take this into a matricial form:\n",
    "\n",
    "\n",
    "\n",
    "$$\\mathbf{A} = \\begin{bmatrix}\n",
    "x_0^3 & x_0^2 & x_0^1 & x_0^0\\\\\n",
    "x_1^3 & x_1^2 & x_1^1 & x_1^0\\\\\n",
    "x_2^3 & x_2^2 & x_2^1 & x_2^0\\\\\n",
    "x_3^3 & x_3^2 & x_3^1 & x_3^0\\\\\n",
    "\\end{bmatrix}\n",
    "\\begin{bmatrix}\n",
    "5\\\\ \n",
    "3\\\\ \n",
    "1\\\\ \n",
    "3\\\\ \n",
    "\\end{bmatrix}$$\n",
    "\n",
    "If we make this matrix multiplication, we have all four values that fully represents the polynomial $A(x)$. Let's analyse the complexity of this problem:\n",
    "\n",
    "For each line, we have $4$ multiplications and $4$ additions. Once we have $4$ lines, we need to make $16$ multiplications to fully evaluate the polynomial $A(x)$. If we expand this to an arbitrary $P(x)$ with grade $N$, we will need $N^2$ multiplications, letting us with a problem with complexity of $O(n^2)$. The magic here is there is one way that we can cut this multiplications, and this relays in some beautiful properties. Let's start talking about it"
   ]
  },
  {
   "cell_type": "markdown",
   "id": "65615e7a",
   "metadata": {},
   "source": [
    "### Even and Odd functions\n",
    "***\n",
    "\n",
    "Okay, we want to reduce the number of multiplications, alright? So, maybe there is one way that if we choose one point $x_k$, it can be used to easily calculates more than one point with only one evaluation...\n",
    "\n",
    "\n",
    "#### Even functions\n",
    "\n",
    "Assume the function:\n",
    "\n",
    "$$f(x) = x^2$$\n",
    "\n",
    "If we choose a $x_k = -1$, the evaluation is $f(-1) = 1$. But if we choose $x_k = 1$, the evaluation is $f(1) = 1$. Wow, we have the same evaluation to two different values of $x_k$, and calculating to only one, we have the other!. This is a property of even functions:\n",
    "\n",
    "$$f(-x) = f(x)$$\n",
    "\n",
    "#### Odd functions\n",
    "\n",
    "Now, assume the following function:\n",
    "\n",
    "$$g(x) = x^3$$\n",
    "\n",
    "If we choose $x_k = -1$, we have $g(-1) = -1$. If we choose $x_k = 1$, we have $g(1) = 1$. Note that we have the same value but inverted to two different values of $x_k$. So, we only need to evaluate once and to achieve the other evaluation we just invert the result, that is so more simple than making more N multiplications. This is another property that we are interested: To an odd function:\n",
    "\n",
    "$$f(-x) = -f(x)$$\n",
    "\n",
    "Okay, now we have the two main tools to start trying to divide the problem.\n"
   ]
  },
  {
   "cell_type": "markdown",
   "id": "97dc3f3a",
   "metadata": {},
   "source": [
    "### Divide and conquer\n",
    "***\n",
    "\n",
    "#### Divide\n",
    "we can divide our $A(x)$ into two polynomials, the terms with even dregree and the terms with odd degree:\n",
    "\n",
    "$$P(x) = (3x^2 + 3) + (5x^3 + x)$$\n",
    "\n",
    "And we can turn the odd degree term into a even degrem term:\n",
    "\n",
    "$$P(x) = (3x^2 + 3) + x(5x^2 + 1)$$\n",
    "\n",
    "We have divided our problem into two new polynomials:\n",
    "\n",
    "$$P(x) = P_e(x^2) + xP_o(x^2)$$\n",
    "\n",
    "Now, if we choose to this case four points that are paired, like ${-2, -1, +1, +2}$, when we split the problem into two $x^2$ polynomials, with squared degree terms only, this set of data reduces to ${1, 2}$. So we have to evaluate two smaller polynomials with half of the terms, and we will have the relation:\n",
    "\n",
    "$$P(x_k) = P_e(x_k^2) + x_kP_e(x_k^2)$$\n",
    "$$P(-x_k) = P_e(x_k^2) - x_kP_e(x_k^2)$$\n",
    "\n",
    "We only have to make half of the multiplications, the other half is achieved by inverting one of the terms.\n",
    "\n",
    "\n"
   ]
  },
  {
   "cell_type": "markdown",
   "id": "9ca507e6",
   "metadata": {},
   "source": [
    "#### Conquer? Not yet\n",
    "\n",
    "Okay, but what we do next? We have the same problem. We want to evaluate t $P_e(x^2)$ and $P_o(x^2)$, so I think you are saying: \"Just split again into even and odd terms\". Okay, let's do it to $P_e(x^2)$. We will have:\n",
    "\n",
    "$$P_e(x^2) = P_e(x^4) + x^2P_o(x^4)$$\n",
    "\n",
    "So, if we take the second set of coefficents ${1, 2}$, we need to square again, and we will achieve ${1, 16}$. Did you catch the problem? This time, the number of coefficients hasn't fallen. We had two coefficients to $x^2$ and got two coefficients to $x^4$. Maybe there is one way to assure that every time we square a entire set of data, the new size becomes half of the current size? The answer relies on Complex Numbers (Don't worry, we will code our first lines of code very soon)"
   ]
  },
  {
   "cell_type": "markdown",
   "id": "247bd915",
   "metadata": {},
   "source": [
    "### Complex Numbers and the unit circule\n",
    "***\n",
    "\n",
    "If we remember the main addition of complex numbers is the $i$. The way this number is defined results in $i^2 = -1$. So, let's take the same problem again, we will try to evaluate $P(x)$, but now, let's take the points: ${-i, -1, +1, +i}$. I won't write down the equations again, but at this point, we can say that if we square this terms to evaluate $P_e(x^2)$ we will have ${-1, +1}$, right? Now, if we square again to evaluate $P_e(x^4)$, we will have ${1}$. Okay, take a breath, we are almost there! We did the magic of squaring the coefficients two times, and at the end we have a problem of size $4/4$. At each stage, we need to make the half of the multiplications, letting us with a problem of complexity $O(nlog_2(n))$.\n",
    "\n",
    "If we expand the idea, we can calculate the $\\sqrt[n]1 $, and we will have the first points that will always split until reachs a problem of evaluation with only one term. Let's comprove this with some code. Oh yeah!"
   ]
  },
  {
   "cell_type": "code",
   "execution_count": 1,
   "id": "1566ff3f",
   "metadata": {},
   "outputs": [],
   "source": [
    "%matplotlib widget\n",
    "import ipympl\n",
    "from IPython.display import HTML, Image\n",
    "import numpy as np\n",
    "import matplotlib.pyplot as plt\n",
    "from matplotlib import rc\n",
    "import matplotlib.animation as ani # Let's do some cool stuffs here\n",
    "import seaborn as sns\n",
    "import time\n",
    "sns.set_theme()"
   ]
  },
  {
   "cell_type": "markdown",
   "id": "4bb0a579",
   "metadata": {},
   "source": [
    "We want:\n",
    "- Create an array containing all N-roots of unity\n",
    "- Create an array that goes from 0 to N"
   ]
  },
  {
   "cell_type": "code",
   "execution_count": 2,
   "id": "cf5513d5",
   "metadata": {},
   "outputs": [],
   "source": [
    "N = 16\n",
    "# Roots\n",
    "aux_array = np.zeros(N+1)\n",
    "aux_array[0] = 1\n",
    "aux_array[-1] = -1\n",
    "\n",
    "roots = np.roots(aux_array)\n",
    "\n",
    "# array of powers\n",
    "aux_array = np.arange(1, N+1)\n",
    "interval_between_integers = N\n",
    "size_after_interp = (aux_array.size - 1)*interval_between_integers + 1\n",
    "power_array = np.interp(np.arange(size_after_interp), np.arange(size_after_interp, step=interval_between_integers), aux_array)\n",
    "aux_array_2 = np.repeat(2**np.arange(1, np.log2(N)+1), N)\n",
    "power_array = np.concatenate((power_array, aux_array_2))\n",
    "power_array.sort()\n"
   ]
  },
  {
   "cell_type": "code",
   "execution_count": 3,
   "id": "ea9295d4",
   "metadata": {},
   "outputs": [],
   "source": [
    "\n",
    "# Creating the graph:\n",
    "rc('animation', html='html5')\n",
    "fig, ax = plt.subplots(figsize=(8,8))\n",
    "\n",
    "dots = ax.scatter((roots**power_array[0]).real, (roots**power_array[0]).imag, color='red')\n",
    "color = 'red'\n",
    "pause = 0\n",
    "next_sleep = 0\n",
    "\n",
    "def step_root(i):\n",
    "        \n",
    "    global color \n",
    "    ax.cla()\n",
    "    ax.set_xlabel('Real')\n",
    "    ax.set_ylabel('Imag')\n",
    "    ax.set_xlim(-2, 2)\n",
    "    ax.set_ylim(-2, 2)\n",
    "    ax.set_title(f'Powers of N-roots of Unity - Power = {power_array[i]}')\n",
    "\n",
    "    if(np.log2(power_array[i]) == int(np.log2(power_array[i]))):\n",
    "        color='green'\n",
    "\n",
    "    else:\n",
    "        color='red'\n",
    "\n",
    "    dots.set_ydata = plt.scatter((roots**power_array[i]).real, (roots**power_array[i]).imag, color=color)\n",
    "\n",
    "    return dots\n",
    "\n",
    "animator = ani.FuncAnimation(fig, step_root, interval=50, blit=True, save_count=power_array.size)\n",
    "writergif = ani.PillowWriter(fps=30) \n",
    "animator.save('./animation.gif', writer=writergif)\n",
    "plt.close()"
   ]
  },
  {
   "cell_type": "markdown",
   "id": "00119aec",
   "metadata": {},
   "source": [
    "Note that to each value that is a power of two, the number of points decreases to the half of the previous power of two. Besides, we have a symetry between the points, so we only need to calculate the N/2 first points and the other N/2 are only the inverse.\n",
    "\n",
    "![Gif](animation.gif)"
   ]
  },
  {
   "cell_type": "markdown",
   "id": "17edbf77",
   "metadata": {},
   "source": [
    "Okay, so back to theory. We can represent these complex numbers that are the N-roots of Unity as:\n",
    "\n",
    "$$W_N = e^{-j\\frac{2\\pi}{n}}$$\n",
    "\n",
    "So, in order to evaluate A(x), we have:\n",
    "\n",
    "$$Â[k] = \\sum_{n=0}^{N-1}x[n]W_N^{nk}$$\n",
    "\n",
    "Where:\n",
    "- $x[n]$ represents the coefficients of the polynomial\n",
    "- $W_N$ represents the choosed points to evaluate the polynomial\n",
    "\n",
    "And here we have our DFT equation again, but obtained from polynomial evaluation! That's beautiful!"
   ]
  },
  {
   "cell_type": "markdown",
   "id": "e33c4ebf",
   "metadata": {},
   "source": [
    "## Implementing the FFT\n",
    "***\n",
    "\n",
    "So, in order to implement the FFT, I will define some list of specifications that I want that in my FFT in order to considering it complete:\n",
    "\n",
    "- Given a filter size, compute the N/2 \"evaluation points\"\n",
    "- Given a non power of two filter, raises an exception \n",
    "- Given a data array less than the size of filter, pad with zeros\n",
    "- Given X[k], X[k+n/2] must have the same value\n",
    "- Compute a FFT of size two (Elemental one)\n",
    "- Compute a FFT of arbitrary size\n",
    "\n",
    "Acceptance critteria:\n",
    "\n",
    "- FFT of an impulse\n",
    "- FFT of an cosine\n",
    "- FFT of a shifted impulse\n",
    "- FFT of a shifted cosine\n",
    "- FFT of a modulated cosine\n",
    "\n",
    "The list of specifications will be granted with TDD (Test Driven Development). The Acceptance critteria will be checked in this notebook, importing the file that contains the FFT implementation."
   ]
  },
  {
   "cell_type": "markdown",
   "id": "a4d1032a",
   "metadata": {},
   "source": []
  }
 ],
 "metadata": {
  "kernelspec": {
   "display_name": "Python 3.10.6 64-bit",
   "language": "python",
   "name": "python3"
  },
  "language_info": {
   "codemirror_mode": {
    "name": "ipython",
    "version": 3
   },
   "file_extension": ".py",
   "mimetype": "text/x-python",
   "name": "python",
   "nbconvert_exporter": "python",
   "pygments_lexer": "ipython3",
   "version": "3.10.6"
  },
  "vscode": {
   "interpreter": {
    "hash": "e7370f93d1d0cde622a1f8e1c04877d8463912d04d973331ad4851f04de6915a"
   }
  }
 },
 "nbformat": 4,
 "nbformat_minor": 5
}
